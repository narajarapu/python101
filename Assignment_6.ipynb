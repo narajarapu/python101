{
  "nbformat": 4,
  "nbformat_minor": 0,
  "metadata": {
    "colab": {
      "provenance": [],
      "authorship_tag": "ABX9TyPK/2XwbkgmapzlSa4Jm9KQ",
      "include_colab_link": true
    },
    "kernelspec": {
      "name": "python3",
      "display_name": "Python 3"
    },
    "language_info": {
      "name": "python"
    }
  },
  "cells": [
    {
      "cell_type": "markdown",
      "metadata": {
        "id": "view-in-github",
        "colab_type": "text"
      },
      "source": [
        "<a href=\"https://colab.research.google.com/github/narajarapu/python101/blob/main/Assignment_6.ipynb\" target=\"_parent\"><img src=\"https://colab.research.google.com/assets/colab-badge.svg\" alt=\"Open In Colab\"/></a>"
      ]
    },
    {
      "cell_type": "code",
      "execution_count": 1,
      "metadata": {
        "colab": {
          "base_uri": "https://localhost:8080/"
        },
        "id": "jJsKc9sSzTeP",
        "outputId": "5c6282af-7056-40a3-cdcc-6c9fe9eafd7d"
      },
      "outputs": [
        {
          "output_type": "stream",
          "name": "stdout",
          "text": [
            "Create an instance of ExampleClass with the following arguments: 1, 2, 'example'\n"
          ]
        }
      ],
      "source": [
        "class Creator:\n",
        "    def get_obj_create_code(self, class_name, *args):\n",
        "      self.obj_create_code = \"Create an instance of \" + class_name + \" with the following arguments: \" + ', '.join(map(repr, args))\n",
        "\n",
        "# Example usage:\n",
        "creator = Creator()\n",
        "creator.get_obj_create_code(\"ExampleClass\", 1, 2, \"example\")\n",
        "print(creator.obj_create_code)\n"
      ]
    }
  ]
}