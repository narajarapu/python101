{
  "nbformat": 4,
  "nbformat_minor": 0,
  "metadata": {
    "colab": {
      "provenance": [],
      "authorship_tag": "ABX9TyNLFTWGqvN6D+6mmiBpw97k",
      "include_colab_link": true
    },
    "kernelspec": {
      "name": "python3",
      "display_name": "Python 3"
    },
    "language_info": {
      "name": "python"
    }
  },
  "cells": [
    {
      "cell_type": "markdown",
      "metadata": {
        "id": "view-in-github",
        "colab_type": "text"
      },
      "source": [
        "<a href=\"https://colab.research.google.com/github/narajarapu/python101/blob/main/Assignment_6.ipynb\" target=\"_parent\"><img src=\"https://colab.research.google.com/assets/colab-badge.svg\" alt=\"Open In Colab\"/></a>"
      ]
    },
    {
      "cell_type": "code",
      "execution_count": 7,
      "metadata": {
        "colab": {
          "base_uri": "https://localhost:8080/"
        },
        "id": "jJsKc9sSzTeP",
        "outputId": "903d3107-b61e-4c5f-e1ac-743e43d777ab"
      },
      "outputs": [
        {
          "output_type": "stream",
          "name": "stdout",
          "text": [
            "Classmates:\n",
            "Classmate 1: Nakul, 14 years old; \n",
            "Classmate 2: Krish, 15 years old; \n",
            "Classmate 3: Bob, 23 years old; \n",
            "\n"
          ]
        }
      ],
      "source": [
        "class Creator:\n",
        "    def get_obj_create_code(self, *args):\n",
        "        self.obj_create_code = \"Classmates:\\n\"\n",
        "        for i, info in enumerate(args, start=1):\n",
        "            name, age = info\n",
        "            self.obj_create_code += \"Classmate {}: {}, {} years old; \\n\".format(i, name, age)\n",
        "\n",
        "# Example usage:\n",
        "creator = Creator()\n",
        "creator.get_obj_create_code((\"Nakul\", 14), (\"Krish\", 15), (\"Bob\", 23))\n",
        "print(creator.obj_create_code)\n"
      ]
    }
  ]
}