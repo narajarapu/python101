{
  "nbformat": 4,
  "nbformat_minor": 0,
  "metadata": {
    "colab": {
      "provenance": [],
      "authorship_tag": "ABX9TyNaxjGSutxXMTK7pMnd2mWi",
      "include_colab_link": true
    },
    "kernelspec": {
      "name": "python3",
      "display_name": "Python 3"
    },
    "language_info": {
      "name": "python"
    }
  },
  "cells": [
    {
      "cell_type": "markdown",
      "metadata": {
        "id": "view-in-github",
        "colab_type": "text"
      },
      "source": [
        "<a href=\"https://colab.research.google.com/github/narajarapu/python101/blob/main/Assignment_13.ipynb\" target=\"_parent\"><img src=\"https://colab.research.google.com/assets/colab-badge.svg\" alt=\"Open In Colab\"/></a>"
      ]
    },
    {
      "cell_type": "code",
      "execution_count": 3,
      "metadata": {
        "colab": {
          "base_uri": "https://localhost:8080/"
        },
        "id": "pEgGrHNDzY3O",
        "outputId": "143cc585-988e-4ce3-88ce-c0fd85a237c5"
      },
      "outputs": [
        {
          "output_type": "stream",
          "name": "stdout",
          "text": [
            "Mama shows up this many times:  3\n",
            "Papa shows up this many times:  3\n",
            "The longest line in the story is : was too hard. Then she lay in the second bed, but it was too soft. Then she lay down in the third bed and it was\n",
            "\n",
            "the amount of characters is : 113\n",
            "The shortest line in the story is : \"Ahhh, this chair is just right,\" she sighed. But just as she settled down into the chair to rest, it broke into\n",
            "\n",
            "the amount of characters is : 113\n"
          ]
        }
      ],
      "source": [
        "filename = 'sample_data/goldilocks.txt'\n",
        "with open(filename) as story:\n",
        "  lines = story.readlines()\n",
        "\n",
        "num_mama = []\n",
        "num_papa = []\n",
        "for line in lines:\n",
        "  if \"Mama\" in line:\n",
        "    num_mama.append(line)\n",
        "  if \"Papa\" in line:\n",
        "    num_papa.append(line)\n",
        "    \n",
        "  \n",
        "print(\"Mama shows up this many times: \", len(num_mama))\n",
        "print(\"Papa shows up this many times: \", len(num_papa))\n",
        "\n",
        "# extra credit\n",
        "print(\"The longest line in the story is :\" , max(lines))\n",
        "print(\"the amount of characters is :\", len(max(lines)))\n",
        "print(\"The shortest line in the story is :\" , min(lines))\n",
        "print(\"the amount of characters is :\", len(min(lines)))\n",
        "\n"
      ]
    }
  ]
}