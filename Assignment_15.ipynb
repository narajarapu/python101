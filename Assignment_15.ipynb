{
  "nbformat": 4,
  "nbformat_minor": 0,
  "metadata": {
    "colab": {
      "provenance": [],
      "authorship_tag": "ABX9TyO7N6cTO2Tp2LhtocDFmhje",
      "include_colab_link": true
    },
    "kernelspec": {
      "name": "python3",
      "display_name": "Python 3"
    },
    "language_info": {
      "name": "python"
    }
  },
  "cells": [
    {
      "cell_type": "markdown",
      "metadata": {
        "id": "view-in-github",
        "colab_type": "text"
      },
      "source": [
        "<a href=\"https://colab.research.google.com/github/narajarapu/python101/blob/main/Assignment_15.ipynb\" target=\"_parent\"><img src=\"https://colab.research.google.com/assets/colab-badge.svg\" alt=\"Open In Colab\"/></a>"
      ]
    },
    {
      "cell_type": "code",
      "execution_count": 3,
      "metadata": {
        "id": "YqV1M2LudkW2",
        "colab": {
          "base_uri": "https://localhost:8080/"
        },
        "outputId": "19590f88-2746-4da3-ca94-69826264d3f5"
      },
      "outputs": [
        {
          "output_type": "stream",
          "name": "stdout",
          "text": [
            "Average annual change: 2443.88 thousands\n",
            "Year with greatest increase: 1955\n",
            "Year with smallest increase: 1967\n"
          ]
        }
      ],
      "source": [
        "with open('USPopulation.txt') as f:\n",
        "    population_data = [int(line.strip()) for line in f]\n",
        "\n",
        "time_period = len(population_data) - 1\n",
        "total_change = population_data[-1] - population_data[0]\n",
        "average_change = total_change / time_period\n",
        "\n",
        "increase_data = [(population_data[i+1] - population_data[i], 1950 + i + 1) for i in range(time_period)]\n",
        "max_increase = max(increase_data)\n",
        "min_increase = min(increase_data)\n",
        "\n",
        "print(f\"Average annual change: {average_change:.2f} thousands\")\n",
        "print(f\"Year with greatest increase: {max_increase[1]}\")\n",
        "print(f\"Year with smallest increase: {min_increase[1]}\")\n"
      ]
    }
  ]
}