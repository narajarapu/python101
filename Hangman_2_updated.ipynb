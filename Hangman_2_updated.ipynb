{
  "nbformat": 4,
  "nbformat_minor": 0,
  "metadata": {
    "colab": {
      "provenance": [],
      "authorship_tag": "ABX9TyO62fCOlTdBPc3Awqu32YtU",
      "include_colab_link": true
    },
    "kernelspec": {
      "name": "python3",
      "display_name": "Python 3"
    },
    "language_info": {
      "name": "python"
    }
  },
  "cells": [
    {
      "cell_type": "markdown",
      "metadata": {
        "id": "view-in-github",
        "colab_type": "text"
      },
      "source": [
        "<a href=\"https://colab.research.google.com/github/narajarapu/python101/blob/main/Hangman_2_updated.ipynb\" target=\"_parent\"><img src=\"https://colab.research.google.com/assets/colab-badge.svg\" alt=\"Open In Colab\"/></a>"
      ]
    },
    {
      "cell_type": "code",
      "execution_count": 1,
      "metadata": {
        "colab": {
          "base_uri": "https://localhost:8080/"
        },
        "id": "7lRAjURrE6Sq",
        "outputId": "438f3844-f3df-4fc7-ba03-1f37ee566a21"
      },
      "outputs": [
        {
          "output_type": "stream",
          "name": "stdout",
          "text": [
            "c_m____r\n",
            "_pr__ramm___\n",
            "am_r_ca\n",
            "defghijklmnopqrstuvwxyz\n",
            "abcdefghijklmnostuvwxyz\n",
            "acdefghijklmnpqrstuvwyz\n"
          ]
        }
      ],
      "source": [
        "# Finish the implementation of is_word_guessed method in MIT project.\n",
        "def is_word_guessed(secret_word, letters_guessed):\n",
        "\n",
        "    secret_list = list(secret_word)\n",
        "\n",
        "    for elem in secret_list:\n",
        "        if elem not in letters_guessed:\n",
        "            return False\n",
        "    return True\n",
        "\n",
        "def get_guessed_word(secret_word, letters_guessed):\n",
        "    my_word = \"\"\n",
        "    for i in range(len(secret_word)):\n",
        "        if secret_word[i] in letters_guessed:\n",
        "            my_word += secret_word[i]\n",
        "        else:\n",
        "            my_word += \"_\"\n",
        "    return my_word\n",
        "\n",
        "\n",
        "def get_available_letters(letters_guessed):\n",
        "    letters = \"abcdefghijklmnopqrstuvwxyz\"\n",
        "    unguessed = \"\"\n",
        "    #for each item in letters, check if it's been guessed; if not, added to unguessed variable\n",
        "    for char in letters:\n",
        "      if char not in letters_guessed:\n",
        "        unguessed += char\n",
        "    return unguessed\n",
        "\n",
        "\n",
        "\n",
        "\n",
        "\n",
        "#@title Testing of get_guessed_word(my_word, guesses)\n",
        "# calling the function: tes case 1\n",
        "my_word = 'computer'\n",
        "guesses = ['c', 'w', 'm', 'r']\n",
        "secret_phrase = get_guessed_word(my_word, guesses)\n",
        "print(secret_phrase)  # c_ m_ _ _ _ r\n",
        "\n",
        "my_word = ' programming'\n",
        "guesses = ['c', 'p', 'm', 'a', 'r']\n",
        "secret_phrase = get_guessed_word(my_word, guesses)\n",
        "print(secret_phrase)  # pr_ _ ramm_ _ _ '\n",
        "\n",
        "\n",
        "my_word = 'america'\n",
        "guesses = ['c', 'p', 'm', 'a', 'r']\n",
        "secret_phrase = get_guessed_word(my_word, guesses)\n",
        "print(secret_phrase)  # am_ r_ ca'\n",
        "\n",
        "\n",
        "#@title Testing of get_available_letters(letters_guessed):\n",
        "str_1 = get_available_letters(['a', 'b', 'c'])\n",
        "print(str_1)  # \"def...z\"\n",
        "\n",
        "\n",
        "str_1 = get_available_letters(['p', 'q', 'r'])\n",
        "print(str_1)  # \"abc... z\" (everything except pqr)\n",
        "\n",
        "\n",
        "str_1 = get_available_letters(['b', 'o', 'x'])\n",
        "print(str_1)  # \"ac... z\" (everything except b, o, x)\n",
        "\n",
        "\n",
        "\n",
        "\n",
        "\n",
        "\n",
        "\n",
        "\n",
        "\n",
        "\n"
      ]
    }
  ]
}