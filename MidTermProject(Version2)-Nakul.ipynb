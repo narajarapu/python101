{
  "cells": [
    {
      "cell_type": "markdown",
      "metadata": {
        "id": "view-in-github",
        "colab_type": "text"
      },
      "source": [
        "<a href=\"https://colab.research.google.com/github/narajarapu/python101/blob/main/MidTermProject(Version2)-Nakul.ipynb\" target=\"_parent\"><img src=\"https://colab.research.google.com/assets/colab-badge.svg\" alt=\"Open In Colab\"/></a>"
      ]
    },
    {
      "cell_type": "markdown",
      "source": [
        "Mid Term Project"
      ],
      "metadata": {
        "id": "vDY9j6sQpleM"
      }
    },
    {
      "cell_type": "code",
      "source": [
        "def is_credit(card):\n",
        "  list = [int(x) for x in card]\n",
        "  list.reverse()\n",
        "  digit_sum = 0\n",
        "  for i in range(len(list)):\n",
        "    n = list[i]\n",
        "    if i % 2 == 0:\n",
        "        digit_sum += n\n",
        "    elif n >= 5:\n",
        "        digit_sum += n * 2 - 9\n",
        "    else:\n",
        "        digit_sum += n * 2\n",
        "\n",
        "  if digit_sum % 10 == 0:\n",
        "    return True\n",
        "  else:\n",
        "    return False\n",
        "\n",
        "  print(is_credit(list))\n",
        "\n",
        "def is_visa(list):\n",
        "\n",
        "      length_1 = len(list)\n",
        "      if length_1 == (16) and list [0] == 4:\n",
        "        return \"Visa Card\"\n",
        "      else:\n",
        "        return \"Invalid Visa Card\"\n",
        "      print(is_visa(list))\n",
        "\n",
        "def is_mastercard(list):\n",
        "        length_2 = len(list)\n",
        "        if length_2 == 16 and list[0] == 5 and list[1] <= 5 and list [1] >= 0:\n",
        "          return \"Valid Mastercard\"\n",
        "        else:\n",
        "          return \"Invalid Mastercard\"\n",
        "        print(is_mastercard(list))\n",
        "\n",
        "def main():\n",
        "  print(\"is_credit('6011000000000004')\", is_credit(\"6011000000000004\"))\n",
        "  print(\"is_credit('79927398713')\", is_credit(\"79927398713\"))\n",
        "  print(\"is_credit('30000000000004')\" ,is_credit(\"30000000000004\"))\n",
        "  print(\"is_credit('6911600873502604')\"  ,is_credit(\"6911600873502604\"))\n",
        "  print(\"is_credit('1234567890')\",  is_credit(\"1234567890\"))\n",
        "\n",
        "  print(\"is_visa('6011000000000004')\",is_visa(\"6011000000000004\"))\n",
        "  print(\"is_visa('79927398713')\", is_visa(\"79927398713\"))\n",
        "  print(\"is_visa('30000000000004')\" ,is_visa(\"30000000000004\"))\n",
        "  print(\"is_visa('6911600873502604')\"  ,is_visa(\"6911600873502604\"))\n",
        "  print(\"is_visa('1234567890')\",  is_visa(\"1234567890\"))\n",
        "\n",
        "  print(\"is_mastercard('6011000000000004')\",is_mastercard(\"6011000000000004\"))\n",
        "  print(\"is_mastercard('79927398713')\", is_mastercard(\"79927398713\"))\n",
        "  print(\"is_mastercard('30000000000004')\" ,is_mastercard(\"30000000000004\"))\n",
        "  print(\"is_mastercard('6911600873502604')\"  ,is_mastercard(\"6911600873502604\"))\n",
        "  print(\"is_mastercard('1234567890')\",  is_mastercard(\"1234567890\"))\n",
        "\n",
        "main()\n",
        "\n",
        "\n"
      ],
      "metadata": {
        "colab": {
          "base_uri": "https://localhost:8080/"
        },
        "id": "vLFSi6HCpo07",
        "outputId": "e1e70a3b-0858-40f4-cac6-3129baf4a927"
      },
      "execution_count": 20,
      "outputs": [
        {
          "output_type": "stream",
          "name": "stdout",
          "text": [
            "is_credit('6011000000000004') True\n",
            "is_credit('79927398713') True\n",
            "is_credit('30000000000004') True\n",
            "is_credit('6911600873502604') False\n",
            "is_credit('1234567890') False\n",
            "is_visa('6011000000000004') Invalid Visa Card\n",
            "is_visa('79927398713') Invalid Visa Card\n",
            "is_visa('30000000000004') Invalid Visa Card\n",
            "is_visa('6911600873502604') Invalid Visa Card\n",
            "is_visa('1234567890') Invalid Visa Card\n",
            "is_mastercard('6011000000000004') Invalid Mastercard\n",
            "is_mastercard('79927398713') Invalid Mastercard\n",
            "is_mastercard('30000000000004') Invalid Mastercard\n",
            "is_mastercard('6911600873502604') Invalid Mastercard\n",
            "is_mastercard('1234567890') Invalid Mastercard\n"
          ]
        }
      ]
    },
    {
      "cell_type": "code",
      "source": [],
      "metadata": {
        "id": "9B1r0RH9pwiB"
      },
      "execution_count": null,
      "outputs": []
    }
  ],
  "metadata": {
    "colab": {
      "name": "Welcome To Colaboratory",
      "provenance": [],
      "include_colab_link": true
    },
    "kernelspec": {
      "display_name": "Python 3",
      "name": "python3"
    }
  },
  "nbformat": 4,
  "nbformat_minor": 0
}