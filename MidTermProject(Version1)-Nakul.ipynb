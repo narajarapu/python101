{
  "cells": [
    {
      "cell_type": "markdown",
      "metadata": {
        "id": "view-in-github",
        "colab_type": "text"
      },
      "source": [
        "<a href=\"https://colab.research.google.com/github/narajarapu/python101/blob/main/MidTermProject(Version1)-Nakul.ipynb\" target=\"_parent\"><img src=\"https://colab.research.google.com/assets/colab-badge.svg\" alt=\"Open In Colab\"/></a>"
      ]
    },
    {
      "cell_type": "markdown",
      "source": [
        "Mid Term Project"
      ],
      "metadata": {
        "id": "vDY9j6sQpleM"
      }
    },
    {
      "cell_type": "code",
      "source": [
        "card = input(\"Enter your credit card number: \")\n",
        "digit_sum = 0\n",
        "\n",
        "for i, digit in enumerate(reversed(card)):\n",
        "    n = int(digit)\n",
        "\n",
        "    if i % 2 == 0:\n",
        "        digit_sum += n\n",
        "    elif n >= 5:\n",
        "        digit_sum += n * 2 - 9\n",
        "    else:\n",
        "        digit_sum += n * 2\n",
        "\n",
        "if digit_sum % 10 == 0:\n",
        "    print(\"Card is valid!\")\n",
        "else:\n",
        "    print(\"Card is invalid!\")\n"
      ],
      "metadata": {
        "colab": {
          "base_uri": "https://localhost:8080/"
        },
        "id": "vLFSi6HCpo07",
        "outputId": "f742148e-7658-4e64-aec8-05e6b85b5497"
      },
      "execution_count": 6,
      "outputs": [
        {
          "output_type": "stream",
          "name": "stdout",
          "text": [
            "Enter your credit card number here: 12344535235\n",
            "Card is invalid!\n"
          ]
        }
      ]
    },
    {
      "cell_type": "code",
      "source": [],
      "metadata": {
        "id": "9B1r0RH9pwiB"
      },
      "execution_count": null,
      "outputs": []
    }
  ],
  "metadata": {
    "colab": {
      "name": "Welcome To Colaboratory",
      "provenance": [],
      "include_colab_link": true
    },
    "kernelspec": {
      "display_name": "Python 3",
      "name": "python3"
    }
  },
  "nbformat": 4,
  "nbformat_minor": 0
}