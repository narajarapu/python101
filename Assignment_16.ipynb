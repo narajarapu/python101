{
  "nbformat": 4,
  "nbformat_minor": 0,
  "metadata": {
    "colab": {
      "provenance": [],
      "authorship_tag": "ABX9TyMhA4DtTi1fnGwbCz4VNf2k",
      "include_colab_link": true
    },
    "kernelspec": {
      "name": "python3",
      "display_name": "Python 3"
    },
    "language_info": {
      "name": "python"
    }
  },
  "cells": [
    {
      "cell_type": "markdown",
      "metadata": {
        "id": "view-in-github",
        "colab_type": "text"
      },
      "source": [
        "<a href=\"https://colab.research.google.com/github/narajarapu/python101/blob/main/Assignment_16.ipynb\" target=\"_parent\"><img src=\"https://colab.research.google.com/assets/colab-badge.svg\" alt=\"Open In Colab\"/></a>"
      ]
    },
    {
      "cell_type": "code",
      "execution_count": null,
      "metadata": {
        "id": "om66MSFIfIzC"
      },
      "outputs": [],
      "source": []
    },
    {
      "cell_type": "code",
      "source": [
        "with open('file1.txt', 'r') as f:\n",
        "    file1_words = f.read().split()\n",
        "with open('file2.txt', 'r') as f:\n",
        "    file2_words = f.read().split()\n",
        "    \n",
        "unique_words = list(set(file1_words + file2_words))\n",
        "shared_words = list(set(file1_words) & set(file2_words))\n",
        "\n",
        "file1_only_words = list(set(file1_words) - set(file2_words))\n",
        "file2_only_words = list(set(file2_words) - set(file1_words))\n",
        "\n",
        "either_or_words = list(set(file1_words) ^ set(file2_words))\n",
        "\n",
        "print(\"Unique words in both files:\", sorted(unique_words))\n",
        "print(\"Words that appear in both files:\", sorted(shared_words))\n",
        "print(\"Words that appear in the first file but not the second:\", sorted(file1_only_words))\n",
        "print(\"Words that appear in the second file but not the first:\", sorted(file2_only_words))\n",
        "print(\"Words that appear in either the first or second file, but not both:\", sorted(either_or_words))\n"
      ],
      "metadata": {
        "colab": {
          "base_uri": "https://localhost:8080/"
        },
        "id": "N--J2hmboFt3",
        "outputId": "b061347a-b8ea-4081-8ef9-2a21e5929d7f"
      },
      "execution_count": 5,
      "outputs": [
        {
          "output_type": "stream",
          "name": "stdout",
          "text": [
            "Unique words in both files: ['ant', 'boy', 'cat', 'dog', 'elephant', 'fish', 'fox', 'newt', 'zebra']\n",
            "Words that appear in both files: ['ant', 'boy', 'cat', 'elephant', 'fox']\n",
            "Words that appear in the first file but not the second: ['dog', 'fish']\n",
            "Words that appear in the second file but not the first: ['newt', 'zebra']\n",
            "Words that appear in either the first or second file, but not both: ['dog', 'fish', 'newt', 'zebra']\n"
          ]
        }
      ]
    }
  ]
}