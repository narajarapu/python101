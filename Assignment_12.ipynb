{
  "nbformat": 4,
  "nbformat_minor": 0,
  "metadata": {
    "colab": {
      "provenance": [],
      "authorship_tag": "ABX9TyM4G2kprPBXLuGuZiMIIVnU",
      "include_colab_link": true
    },
    "kernelspec": {
      "name": "python3",
      "display_name": "Python 3"
    },
    "language_info": {
      "name": "python"
    }
  },
  "cells": [
    {
      "cell_type": "markdown",
      "metadata": {
        "id": "view-in-github",
        "colab_type": "text"
      },
      "source": [
        "<a href=\"https://colab.research.google.com/github/narajarapu/python101/blob/main/Assignment_12.ipynb\" target=\"_parent\"><img src=\"https://colab.research.google.com/assets/colab-badge.svg\" alt=\"Open In Colab\"/></a>"
      ]
    },
    {
      "cell_type": "code",
      "execution_count": 5,
      "metadata": {
        "id": "hXsmeiIymTdQ",
        "colab": {
          "base_uri": "https://localhost:8080/"
        },
        "outputId": "197eaf55-1f48-4201-b012-3544d30bfbab"
      },
      "outputs": [
        {
          "output_type": "stream",
          "name": "stdout",
          "text": [
            "555-438-3663\n"
          ]
        }
      ],
      "source": [
        "alph = ['a','b','c','d','e','f','g','h','i','j','k','l','m','n','o','p',\\\n",
        "            'q','r','s','t','u','v','w','x','y','z']\n",
        "num =[2,2,2,3,3,3,4,4,4,5,5,5,6,6,6,7,7,7,7,8,8,8,9,9,9,9]\n",
        "\n",
        "phone = \"555-GET-FOOD\".lower()\n",
        "\n",
        "s = \"\"\n",
        "for index in range(len(phone)):\n",
        "    if phone[index].isalpha():\n",
        "        s = s + str(num[alph.index(phone[index])])\n",
        "    else:\n",
        "        s = s + phone[index]\n",
        "\n",
        "print(s)  # 555-438-3663"
      ]
    }
  ]
}