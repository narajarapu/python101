{
  "nbformat": 4,
  "nbformat_minor": 0,
  "metadata": {
    "colab": {
      "provenance": [],
      "authorship_tag": "ABX9TyP/8RNrBsFRH6BSX1Qj8nJh",
      "include_colab_link": true
    },
    "kernelspec": {
      "name": "python3",
      "display_name": "Python 3"
    },
    "language_info": {
      "name": "python"
    }
  },
  "cells": [
    {
      "cell_type": "markdown",
      "metadata": {
        "id": "view-in-github",
        "colab_type": "text"
      },
      "source": [
        "<a href=\"https://colab.research.google.com/github/narajarapu/python101/blob/main/Assignment_7.ipynb\" target=\"_parent\"><img src=\"https://colab.research.google.com/assets/colab-badge.svg\" alt=\"Open In Colab\"/></a>"
      ]
    },
    {
      "cell_type": "code",
      "execution_count": 1,
      "metadata": {
        "id": "uJOtpCL7ijiI",
        "outputId": "cd8bcc71-22be-46b0-905a-eb91cdc2f50d",
        "colab": {
          "base_uri": "https://localhost:8080/"
        }
      },
      "outputs": [
        {
          "output_type": "stream",
          "name": "stdout",
          "text": [
            "Course: CS101, Instructor: Dr. Smith, Credits: 3\n",
            "Course: MATH202, Instructor: Prof. Johnson, Credits: 4\n",
            "Course: PHYS301, Instructor: Dr. Davis, Credits: 3\n",
            "Course(course_code='CS101', instructor='Dr. Smith', credits=3)\n",
            "Course(course_code='MATH202', instructor='Prof. Johnson', credits=4)\n",
            "Course(course_code='PHYS301', instructor='Dr. Davis', credits=3)\n",
            "False\n",
            "True\n",
            "True\n",
            "True\n"
          ]
        }
      ],
      "source": [
        "class Course:\n",
        "    def __init__(self, course_code, instructor, credits):\n",
        "        self.course_code = course_code\n",
        "        self.instructor = instructor\n",
        "        self.credits = credits\n",
        "\n",
        "    def __str__(self):\n",
        "        return f\"Course: {self.course_code}, Instructor: {self.instructor}, Credits: {self.credits}\"\n",
        "\n",
        "    def __repr__(self):\n",
        "        return f\"Course(course_code='{self.course_code}', instructor='{self.instructor}', credits={self.credits})\"\n",
        "\n",
        "    def __eq__(self, other):\n",
        "        if isinstance(other, Course):\n",
        "            return (\n",
        "                self.course_code == other.course_code\n",
        "                and self.instructor == other.instructor\n",
        "                and self.credits == other.credits\n",
        "            )\n",
        "        return False\n",
        "\n",
        "    def __ne__(self, other):\n",
        "        return not self.__eq__(other)\n",
        "\n",
        "    def __lt__(self, other):\n",
        "        if isinstance(other, Course):\n",
        "            return self.credits < other.credits\n",
        "        return NotImplemented\n",
        "\n",
        "    def __le__(self, other):\n",
        "        if isinstance(other, Course):\n",
        "            return self.credits <= other.credits\n",
        "        return NotImplemented\n",
        "\n",
        "    def __gt__(self, other):\n",
        "        if isinstance(other, Course):\n",
        "            return self.credits > other.credits\n",
        "        return NotImplemented\n",
        "\n",
        "    def __ge__(self, other):\n",
        "        if isinstance(other, Course):\n",
        "            return self.credits >= other.credits\n",
        "        return NotImplemented\n",
        "\n",
        "# Creating three instances of the Course class\n",
        "course1 = Course(\"CS101\", \"Dr. Jasthi\", 3)\n",
        "course2 = Course(\"MATH202\", \"Prof. Johnson\", 4)\n",
        "course3 = Course(\"PHYS301\", \"Dr. Davis\", 3)\n",
        "\n",
        "# Printing the objects\n",
        "print(course1)\n",
        "print(course2)\n",
        "print(course3)\n",
        "\n",
        "# Printing the representations of the objects\n",
        "print(repr(course1))\n",
        "print(repr(course2))\n",
        "print(repr(course3))\n",
        "\n",
        "# Testing comparison operators\n",
        "print(course1 == course3)  # False\n",
        "print(course1 != course2)  # True\n",
        "print(course1 < course2)   # True\n",
        "print(course2 >= course3)  # True\n"
      ]
    }
  ]
}