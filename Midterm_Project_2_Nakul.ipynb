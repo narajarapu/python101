{
  "nbformat": 4,
  "nbformat_minor": 0,
  "metadata": {
    "colab": {
      "provenance": [],
      "authorship_tag": "ABX9TyPYs4aepX2siDay9ixCWGcL",
      "include_colab_link": true
    },
    "kernelspec": {
      "name": "python3",
      "display_name": "Python 3"
    },
    "language_info": {
      "name": "python"
    }
  },
  "cells": [
    {
      "cell_type": "markdown",
      "metadata": {
        "id": "view-in-github",
        "colab_type": "text"
      },
      "source": [
        "<a href=\"https://colab.research.google.com/github/narajarapu/python101/blob/main/Midterm_Project_2_Nakul.ipynb\" target=\"_parent\"><img src=\"https://colab.research.google.com/assets/colab-badge.svg\" alt=\"Open In Colab\"/></a>"
      ]
    },
    {
      "cell_type": "code",
      "execution_count": 35,
      "metadata": {
        "id": "TGzcxXZpBSZZ"
      },
      "outputs": [],
      "source": [
        "filename = 'GasPrices.txt'\n",
        "\n",
        "# Create dictionaries to hold the data\n",
        "yearly_prices = {}\n",
        "monthly_prices = {}\n",
        "highest_prices = {}\n",
        "lowest_prices = {}\n",
        "\n",
        "# Read the file and process each line\n",
        "with open(filename, 'r') as file:\n",
        "    for line in file:\n",
        "        try:\n",
        "            date, price = line.strip().split(',')\n",
        "            year = int(date.split('/')[2])\n",
        "            month = int(date.split('/')[0])\n",
        "        except ValueError:\n",
        "            # Skip this line if it doesn't have the expected format\n",
        "            continue\n",
        "        \n",
        "        # Calculate yearly average prices\n",
        "        if year in yearly_prices:\n",
        "            yearly_prices[year].append(float(price))\n",
        "        else:\n",
        "            yearly_prices[year] = [float(price)]\n",
        "        \n",
        "        # Calculate monthly average prices\n",
        "        key = (year, month)\n",
        "        if key in monthly_prices:\n",
        "            monthly_prices[key].append(float(price))\n",
        "        else:\n",
        "            monthly_prices[key] = [float(price)]\n",
        "        \n",
        "        # Update highest and lowest prices for each year\n",
        "        if year in highest_prices:\n",
        "            if float(price) > highest_prices[year][0]:\n",
        "                highest_prices[year] = (float(price), date)\n",
        "            elif float(price) == highest_prices[year][0]:\n",
        "                highest_prices[year] = (float(price), highest_prices[year][1] + ', ' + date)\n",
        "        else:\n",
        "            highest_prices[year] = (float(price), date)\n",
        "        \n",
        "        if year in lowest_prices:\n",
        "            if float(price) < lowest_prices[year][0]:\n",
        "                lowest_prices[year] = (float(price), date)\n",
        "            elif float(price) == lowest_prices[year][0]:\n",
        "                lowest_prices[year] = (float(price), lowest_prices[year][1] + ', ' + date)\n",
        "        else:\n",
        "            lowest_prices[year] = (float(price), date)\n",
        "\n",
        "# Calculate average yearly prices\n",
        "for year in range(1993, 2014):\n",
        "    if year in yearly_prices:\n",
        "        avg_price = sum(yearly_prices[year]) / len(yearly_prices[year])\n",
        "        print(f\"Average price for year {year}: ${avg_price:.2f}\")\n",
        "\n",
        "# Calculate average monthly prices\n",
        "for key in monthly_prices:\n",
        "    year, month = key\n",
        "    avg_price = sum(monthly_prices[key]) / len(monthly_prices[key])\n",
        "    print(f\"Average price for {month}/{year}: ${avg_price:.2f}\")\n",
        "\n",
        "# Print highest and lowest prices for each year\n",
        "for year in range(1993, 2014):\n",
        "    if year in highest_prices:\n",
        "        print(f\"Highest price for year {year}: ${highest_prices[year][0]:.2f} on {highest_prices[year][1]}\")\n",
        "    if year in lowest_prices:\n",
        "        print(f\"Lowest price for year {year}: ${lowest_prices[year][0]:.2f} on {lowest_prices[year][1]}\")\n"
      ]
    }
  ]
}