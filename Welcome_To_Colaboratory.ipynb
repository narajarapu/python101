{
  "cells": [
    {
      "cell_type": "markdown",
      "metadata": {
        "id": "view-in-github",
        "colab_type": "text"
      },
      "source": [
        "<a href=\"https://colab.research.google.com/github/narajarapu/python101/blob/main/Welcome_To_Colaboratory.ipynb\" target=\"_parent\"><img src=\"https://colab.research.google.com/assets/colab-badge.svg\" alt=\"Open In Colab\"/></a>"
      ]
    },
    {
      "cell_type": "markdown",
      "source": [
        "Mid Term Project"
      ],
      "metadata": {
        "id": "vDY9j6sQpleM"
      }
    },
    {
      "cell_type": "code",
      "source": [
        "def luhn_checksum(card_number):\n",
        "    def digits_of(n):\n",
        "        return [int(d) for d in str(n)]\n",
        "    digits = digits_of(card_number)\n",
        "    odd_digits = digits[-1::-2]\n",
        "    even_digits = digits[-2::-2]\n",
        "    checksum = 0\n",
        "    checksum += sum(odd_digits)\n",
        "    for d in even_digits:\n",
        "        checksum += sum(digits_of(d*2))\n",
        "    return checksum % 10\n",
        "\n",
        "print('Valid') if luhn_checksum(\"4532015112830366\")==0 else print('Invalid')"
      ],
      "metadata": {
        "id": "vLFSi6HCpo07"
      },
      "execution_count": null,
      "outputs": []
    },
    {
      "cell_type": "code",
      "source": [],
      "metadata": {
        "id": "9B1r0RH9pwiB"
      },
      "execution_count": null,
      "outputs": []
    }
  ],
  "metadata": {
    "colab": {
      "name": "Welcome To Colaboratory",
      "provenance": [],
      "include_colab_link": true
    },
    "kernelspec": {
      "display_name": "Python 3",
      "name": "python3"
    }
  },
  "nbformat": 4,
  "nbformat_minor": 0
}